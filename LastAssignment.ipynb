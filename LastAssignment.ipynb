{
 "cells": [
  {
   "cell_type": "code",
   "execution_count": 0,
   "metadata": {
    "colab": {},
    "colab_type": "code",
    "id": "1i5WNVyaxbN-"
   },
   "outputs": [],
   "source": [
    "import pickle "
   ]
  },
  {
   "cell_type": "code",
   "execution_count": 0,
   "metadata": {
    "colab": {},
    "colab_type": "code",
    "id": "AAVIYNI7wULi"
   },
   "outputs": [],
   "source": [
    "pickle_off1 = open(\"drive/My Drive/Colab Notebooks/testX.pickle\",\"rb\")\n",
    "testX= pickle.load(pickle_off1)\n",
    "\n",
    "pickle_off2 = open(\"drive/My Drive/Colab Notebooks/trainX.pickle\",\"rb\")\n",
    "trainX= pickle.load(pickle_off2)\n",
    "\n",
    "pickle_off3 = open(\"drive/My Drive/Colab Notebooks/trainY.pickle\",\"rb\")\n",
    "trainY= pickle.load(pickle_off3)"
   ]
  },
  {
   "cell_type": "code",
   "execution_count": 0,
   "metadata": {
    "colab": {},
    "colab_type": "code",
    "id": "-1qy6kt9gwnh"
   },
   "outputs": [],
   "source": [
    "#Run this cell to mount your Google Drive.\n",
    "#from google.colab import drive\n",
    "#drive.mount('/content/drive')"
   ]
  },
  {
   "cell_type": "code",
   "execution_count": 0,
   "metadata": {
    "colab": {},
    "colab_type": "code",
    "id": "mzh7BojihYz-"
   },
   "outputs": [],
   "source": [
    "import pandas as pd"
   ]
  },
  {
   "cell_type": "code",
   "execution_count": 9,
   "metadata": {
    "colab": {
     "base_uri": "https://localhost:8080/",
     "height": 34
    },
    "colab_type": "code",
    "executionInfo": {
     "elapsed": 1181,
     "status": "ok",
     "timestamp": 1561114620896,
     "user": {
      "displayName": "Abhishek Chugh",
      "photoUrl": "",
      "userId": "13399862682470455070"
     },
     "user_tz": -330
    },
    "id": "GygnNZgLxSu_",
    "outputId": "aa04a4bf-8a6a-46c3-e55b-fe104a500485"
   },
   "outputs": [
    {
     "data": {
      "text/plain": [
       "(60000, 28, 28)"
      ]
     },
     "execution_count": 9,
     "metadata": {
      "tags": []
     },
     "output_type": "execute_result"
    }
   ],
   "source": [
    "trainX.shape"
   ]
  },
  {
   "cell_type": "markdown",
   "metadata": {},
   "source": [
    "# As we can see from the shape, the data is image type and therefore we can confirm this by plotting it ."
   ]
  },
  {
   "cell_type": "code",
   "execution_count": 10,
   "metadata": {
    "colab": {
     "base_uri": "https://localhost:8080/",
     "height": 286
    },
    "colab_type": "code",
    "executionInfo": {
     "elapsed": 1558,
     "status": "ok",
     "timestamp": 1561114622607,
     "user": {
      "displayName": "Abhishek Chugh",
      "photoUrl": "",
      "userId": "13399862682470455070"
     },
     "user_tz": -330
    },
    "id": "Cg6mTWYbxxwY",
    "outputId": "57ebe8f1-b596-45a1-98a9-23ca7ecc3924"
   },
   "outputs": [
    {
     "data": {
      "text/plain": [
       "<matplotlib.image.AxesImage at 0x7f79d2712940>"
      ]
     },
     "execution_count": 10,
     "metadata": {
      "tags": []
     },
     "output_type": "execute_result"
    },
    {
     "data": {
      "image/png": "[encoded data removed]",
      "text/plain": [
       "<Figure size 432x288 with 1 Axes>"
      ]
     },
     "metadata": {
      "tags": []
     },
     "output_type": "display_data"
    }
   ],
   "source": [
    "import matplotlib.pyplot as plt\n",
    "import matplotlib.cm as cm\n",
    "import numpy as np\n",
    "\n",
    "plt.imsave('filename.png', np.array(trainX[0]).reshape(28,28), cmap=cm.gray)\n",
    "plt.imshow(np.array(trainX[0]).reshape(28,28))"
   ]
  },
  {
   "cell_type": "code",
   "execution_count": 0,
   "metadata": {
    "colab": {},
    "colab_type": "code",
    "id": "5L0Brwi-yB5p"
   },
   "outputs": [],
   "source": [
    "# As we can see, the data is image type and therefore we need to use CNN."
   ]
  },
  {
   "cell_type": "code",
   "execution_count": 0,
   "metadata": {
    "colab": {},
    "colab_type": "code",
    "id": "a6EnQ5bbx9Qo"
   },
   "outputs": [],
   "source": [
    "from sklearn.model_selection import train_test_split\n",
    "X_train, X_val, y_train, y_val = train_test_split(trainX, trainY, test_size=0.2, random_state=42)\n"
   ]
  },
  {
   "cell_type": "code",
   "execution_count": 0,
   "metadata": {
    "colab": {},
    "colab_type": "code",
    "id": "0okhzQjYmtUi"
   },
   "outputs": [],
   "source": [
    "X_train = X_train.reshape(X_train.shape[0], *(28, 28, 1))\n",
    "testX = testX.reshape(testX.shape[0], *(28, 28, 1))\n",
    "X_val = X_val.reshape(X_val.shape[0], *(28, 28, 1))"
   ]
  },
  {
   "cell_type": "code",
   "execution_count": 14,
   "metadata": {
    "colab": {
     "base_uri": "https://localhost:8080/",
     "height": 34
    },
    "colab_type": "code",
    "executionInfo": {
     "elapsed": 2702,
     "status": "ok",
     "timestamp": 1561114650569,
     "user": {
      "displayName": "Abhishek Chugh",
      "photoUrl": "",
      "userId": "13399862682470455070"
     },
     "user_tz": -330
    },
    "id": "7Ajp15Uom-Kg",
    "outputId": "958de30e-3735-4ecf-a584-ea43326715e9"
   },
   "outputs": [
    {
     "name": "stderr",
     "output_type": "stream",
     "text": [
      "Using TensorFlow backend.\n"
     ]
    }
   ],
   "source": [
    "from keras.models import Sequential\n",
    "from keras.layers import Conv2D, Dense, Flatten, MaxPooling2D, Dropout\n",
    "from keras.optimizers import Adam\n",
    "from keras.callbacks import TensorBoard"
   ]
  },
  {
   "cell_type": "code",
   "execution_count": 0,
   "metadata": {
    "colab": {},
    "colab_type": "code",
    "id": "BnsyrXPpnKXd"
   },
   "outputs": [],
   "source": [
    "cnn = Sequential() # model has layers in sequence\n",
    "\n",
    "# convolutional layer\n",
    "cnn.add(Conv2D(256, (3, 3), input_shape=(28, 28, 1), activation='relu')) # convoluting\n",
    "cnn.add(MaxPooling2D(pool_size=(3,3))) # pooling\n",
    "\n",
    "cnn.add(Dropout(0.25)) # to prevent overfitting\n",
    "\n",
    "cnn.add(Conv2D(64, (3, 3), activation='relu')) # convoluting\n",
    "cnn.add(MaxPooling2D(pool_size=(2,2))) # pooling\n",
    "\n",
    "cnn.add(Flatten()) # flattening into 1D set.\n",
    "# This is input layer of the Neural Network\n",
    "\n",
    "cnn.add(Dense(units=64, activation='relu')) # first hidden layer with 32 units\n",
    "# this model has only one hidden layer\n",
    "cnn.add(Dropout(0.15))\n",
    "cnn.add(Dense(units=32, activation='relu'))\n",
    "\n",
    "cnn.add(Dense(units=10, activation='softmax')) # Output layer\n"
   ]
  },
  {
   "cell_type": "code",
   "execution_count": 24,
   "metadata": {
    "colab": {
     "base_uri": "https://localhost:8080/",
     "height": 920
    },
    "colab_type": "code",
    "executionInfo": {
     "elapsed": 99202,
     "status": "ok",
     "timestamp": 1561115166067,
     "user": {
      "displayName": "Abhishek Chugh",
      "photoUrl": "",
      "userId": "13399862682470455070"
     },
     "user_tz": -330
    },
    "id": "OPlXv2Zhne-9",
    "outputId": "3832d222-b680-4452-9f5b-092bd1713a90"
   },
   "outputs": [
    {
     "name": "stdout",
     "output_type": "stream",
     "text": [
      "Train on 48000 samples, validate on 12000 samples\n",
      "Epoch 1/25\n",
      "48000/48000 [==============================] - 5s 106us/step - loss: 2.3029 - acc: 0.5578 - val_loss: 0.6046 - val_acc: 0.7666\n",
      "Epoch 2/25\n",
      "48000/48000 [==============================] - 4s 79us/step - loss: 0.6165 - acc: 0.7714 - val_loss: 0.4682 - val_acc: 0.8286\n",
      "Epoch 3/25\n",
      "48000/48000 [==============================] - 4s 79us/step - loss: 0.4957 - acc: 0.8209 - val_loss: 0.4086 - val_acc: 0.8472\n",
      "Epoch 4/25\n",
      "48000/48000 [==============================] - 4s 79us/step - loss: 0.4379 - acc: 0.8410 - val_loss: 0.3707 - val_acc: 0.8640\n",
      "Epoch 5/25\n",
      "48000/48000 [==============================] - 4s 79us/step - loss: 0.3997 - acc: 0.8555 - val_loss: 0.3522 - val_acc: 0.8722\n",
      "Epoch 6/25\n",
      "48000/48000 [==============================] - 4s 80us/step - loss: 0.3736 - acc: 0.8644 - val_loss: 0.3424 - val_acc: 0.8748\n",
      "Epoch 7/25\n",
      "48000/48000 [==============================] - 4s 80us/step - loss: 0.3546 - acc: 0.8710 - val_loss: 0.3250 - val_acc: 0.8779\n",
      "Epoch 8/25\n",
      "48000/48000 [==============================] - 4s 79us/step - loss: 0.3450 - acc: 0.8740 - val_loss: 0.3155 - val_acc: 0.8838\n",
      "Epoch 9/25\n",
      "48000/48000 [==============================] - 4s 79us/step - loss: 0.3211 - acc: 0.8822 - val_loss: 0.3082 - val_acc: 0.8880\n",
      "Epoch 10/25\n",
      "48000/48000 [==============================] - 4s 79us/step - loss: 0.3109 - acc: 0.8870 - val_loss: 0.3031 - val_acc: 0.8875\n",
      "Epoch 11/25\n",
      "48000/48000 [==============================] - 4s 80us/step - loss: 0.3025 - acc: 0.8878 - val_loss: 0.3059 - val_acc: 0.8855\n",
      "Epoch 12/25\n",
      "48000/48000 [==============================] - 4s 80us/step - loss: 0.2945 - acc: 0.8919 - val_loss: 0.2969 - val_acc: 0.8911\n",
      "Epoch 13/25\n",
      "48000/48000 [==============================] - 4s 79us/step - loss: 0.2857 - acc: 0.8945 - val_loss: 0.3146 - val_acc: 0.8830\n",
      "Epoch 14/25\n",
      "48000/48000 [==============================] - 4s 80us/step - loss: 0.2781 - acc: 0.8964 - val_loss: 0.3071 - val_acc: 0.8872\n",
      "Epoch 15/25\n",
      "48000/48000 [==============================] - 4s 79us/step - loss: 0.2747 - acc: 0.8986 - val_loss: 0.3071 - val_acc: 0.8882\n",
      "Epoch 16/25\n",
      "48000/48000 [==============================] - 4s 79us/step - loss: 0.2688 - acc: 0.9001 - val_loss: 0.2907 - val_acc: 0.8955\n",
      "Epoch 17/25\n",
      "48000/48000 [==============================] - 4s 79us/step - loss: 0.2579 - acc: 0.9044 - val_loss: 0.2887 - val_acc: 0.8975\n",
      "Epoch 18/25\n",
      "48000/48000 [==============================] - 4s 79us/step - loss: 0.2516 - acc: 0.9074 - val_loss: 0.2932 - val_acc: 0.8958\n",
      "Epoch 19/25\n",
      "48000/48000 [==============================] - 4s 80us/step - loss: 0.2463 - acc: 0.9064 - val_loss: 0.2804 - val_acc: 0.9004\n",
      "Epoch 20/25\n",
      "48000/48000 [==============================] - 4s 79us/step - loss: 0.2448 - acc: 0.9094 - val_loss: 0.2834 - val_acc: 0.8982\n",
      "Epoch 21/25\n",
      "48000/48000 [==============================] - 4s 79us/step - loss: 0.2377 - acc: 0.9112 - val_loss: 0.2822 - val_acc: 0.8973\n",
      "Epoch 22/25\n",
      "48000/48000 [==============================] - 4s 79us/step - loss: 0.2326 - acc: 0.9131 - val_loss: 0.2841 - val_acc: 0.8982\n",
      "Epoch 23/25\n",
      "48000/48000 [==============================] - 4s 79us/step - loss: 0.2301 - acc: 0.9140 - val_loss: 0.2804 - val_acc: 0.9026\n",
      "Epoch 24/25\n",
      "48000/48000 [==============================] - 4s 80us/step - loss: 0.2320 - acc: 0.9134 - val_loss: 0.2818 - val_acc: 0.9001\n",
      "Epoch 25/25\n",
      "48000/48000 [==============================] - 4s 79us/step - loss: 0.2199 - acc: 0.9150 - val_loss: 0.2882 - val_acc: 0.8957\n"
     ]
    },
    {
     "data": {
      "text/plain": [
       "<keras.callbacks.History at 0x7f799097c9e8>"
      ]
     },
     "execution_count": 24,
     "metadata": {
      "tags": []
     },
     "output_type": "execute_result"
    }
   ],
   "source": [
    "cnn.compile(optimizer=Adam(lr=0.001), loss='sparse_categorical_crossentropy', metrics=['accuracy'])\n",
    "\n",
    "cnn.fit(X_train, y_train, batch_size=512, epochs=25, verbose=1, validation_data=(X_val, y_val))"
   ]
  },
  {
   "cell_type": "code",
   "execution_count": 0,
   "metadata": {
    "colab": {},
    "colab_type": "code",
    "id": "3VAHAxqpnt-0"
   },
   "outputs": [],
   "source": [
    "\n",
    "y_pred = cnn.predict_classes(testX)"
   ]
  },
  {
   "cell_type": "code",
   "execution_count": 0,
   "metadata": {
    "colab": {},
    "colab_type": "code",
    "id": "e2RZlfa-yMBG"
   },
   "outputs": [],
   "source": [
    "pd.DataFrame(y_pred).to_pickle(\"drive/My Drive/lastAssignment.pickle\")\n",
    "#y_predto_pickle(y_pred,)"
   ]
  },
  {
   "cell_type": "code",
   "execution_count": 30,
   "metadata": {
    "colab": {
     "base_uri": "https://localhost:8080/",
     "height": 486
    },
    "colab_type": "code",
    "executionInfo": {
     "elapsed": 1420,
     "status": "ok",
     "timestamp": 1561115585630,
     "user": {
      "displayName": "Abhishek Chugh",
      "photoUrl": "",
      "userId": "13399862682470455070"
     },
     "user_tz": -330
    },
    "id": "FzitJkzyy_aT",
    "outputId": "02ea2568-788d-4aef-b2b1-17682368fce7"
   },
   "outputs": [
    {
     "name": "stdout",
     "output_type": "stream",
     "text": [
      "_________________________________________________________________\n",
      "Layer (type)                 Output Shape              Param #   \n",
      "=================================================================\n",
      "conv2d_3 (Conv2D)            (None, 26, 26, 256)       2560      \n",
      "_________________________________________________________________\n",
      "max_pooling2d_3 (MaxPooling2 (None, 8, 8, 256)         0         \n",
      "_________________________________________________________________\n",
      "dropout_4 (Dropout)          (None, 8, 8, 256)         0         \n",
      "_________________________________________________________________\n",
      "conv2d_4 (Conv2D)            (None, 6, 6, 64)          147520    \n",
      "_________________________________________________________________\n",
      "max_pooling2d_4 (MaxPooling2 (None, 3, 3, 64)          0         \n",
      "_________________________________________________________________\n",
      "flatten_3 (Flatten)          (None, 576)               0         \n",
      "_________________________________________________________________\n",
      "dense_6 (Dense)              (None, 64)                36928     \n",
      "_________________________________________________________________\n",
      "dropout_5 (Dropout)          (None, 64)                0         \n",
      "_________________________________________________________________\n",
      "dense_7 (Dense)              (None, 32)                2080      \n",
      "_________________________________________________________________\n",
      "dense_8 (Dense)              (None, 10)                330       \n",
      "=================================================================\n",
      "Total params: 189,418\n",
      "Trainable params: 189,418\n",
      "Non-trainable params: 0\n",
      "_________________________________________________________________\n"
     ]
    }
   ],
   "source": [
    "cnn.summary()\n"
   ]
  },
  {
   "cell_type": "code",
   "execution_count": 0,
   "metadata": {
    "colab": {},
    "colab_type": "code",
    "id": "69b0L-82i-s5"
   },
   "outputs": [],
   "source": [
    "cnn.save(\"drive/My Drive/myModel.h5\")"
   ]
  },
  {
   "cell_type": "markdown",
   "metadata": {
    "colab": {},
    "colab_type": "code",
    "id": "HqAJrD5WvfeM"
   },
   "source": [
    "# I have saved the results in a pickle file and the accuracy on training data is % and on validation data is 90% which can be improved by increasing the hidden layers or changing the number of epochs. As far as deep learn"
   ]
  },
  {
   "cell_type": "markdown",
   "metadata": {
    "colab_type": "text",
    "id": "Clw5Op0bvjCT"
   },
   "source": [
    "# New Section"
   ]
  }
 ],
 "metadata": {
  "accelerator": "GPU",
  "colab": {
   "name": "LastAssignment.ipynb",
   "provenance": [],
   "version": "0.3.2"
  },
  "kernelspec": {
   "display_name": "Python 3",
   "language": "python",
   "name": "python3"
  },
  "language_info": {
   "codemirror_mode": {
    "name": "ipython",
    "version": 3
   },
   "file_extension": ".py",
   "mimetype": "text/x-python",
   "name": "python",
   "nbconvert_exporter": "python",
   "pygments_lexer": "ipython3",
   "version": "3.6.7"
  }
 },
 "nbformat": 4,
 "nbformat_minor": 1
}
